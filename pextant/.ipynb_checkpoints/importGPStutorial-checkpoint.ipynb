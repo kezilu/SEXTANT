{
 "cells": [
  {
   "cell_type": "code",
   "execution_count": 1,
   "metadata": {
    "collapsed": false
   },
   "outputs": [],
   "source": [
    "import pandas as pd\n",
    "pd.options.display.max_rows = 5\n",
    "filename = 'cotm_16_tracks.csv'\n",
    "delimiter = r\"\\s+\" # some of the columns are separated by a space, others by tabs, use regex to include both\n",
    "header_row = 0     # the first row has all the header names  \n",
    "df=pd.read_csv(filename, sep=delimiter, header=header_row, parse_dates=[['date', 'time']])"
   ]
  },
  {
   "cell_type": "code",
   "execution_count": 2,
   "metadata": {
    "collapsed": false,
    "scrolled": true
   },
   "outputs": [
    {
     "data": {
      "text/html": [
       "<div>\n",
       "<table border=\"1\" class=\"dataframe\">\n",
       "  <thead>\n",
       "    <tr style=\"text-align: right;\">\n",
       "      <th></th>\n",
       "      <th>date_time</th>\n",
       "      <th>name</th>\n",
       "      <th>latitude</th>\n",
       "      <th>longitude</th>\n",
       "      <th>heading</th>\n",
       "    </tr>\n",
       "  </thead>\n",
       "  <tbody>\n",
       "    <tr>\n",
       "      <th>0</th>\n",
       "      <td>2016-06-17 21:58:28</td>\n",
       "      <td>20160617A_EV1</td>\n",
       "      <td>43.446248</td>\n",
       "      <td>-113.564364</td>\n",
       "      <td>153.9</td>\n",
       "    </tr>\n",
       "    <tr>\n",
       "      <th>1</th>\n",
       "      <td>2016-06-17 21:58:29</td>\n",
       "      <td>20160617A_EV1</td>\n",
       "      <td>43.446248</td>\n",
       "      <td>-113.564364</td>\n",
       "      <td>20.9</td>\n",
       "    </tr>\n",
       "    <tr>\n",
       "      <th>...</th>\n",
       "      <td>...</td>\n",
       "      <td>...</td>\n",
       "      <td>...</td>\n",
       "      <td>...</td>\n",
       "      <td>...</td>\n",
       "    </tr>\n",
       "    <tr>\n",
       "      <th>444273</th>\n",
       "      <td>2016-06-29 21:30:37</td>\n",
       "      <td>20160629A_EV1</td>\n",
       "      <td>43.461320</td>\n",
       "      <td>-113.564211</td>\n",
       "      <td>24.8</td>\n",
       "    </tr>\n",
       "    <tr>\n",
       "      <th>444274</th>\n",
       "      <td>2016-06-29 21:30:39</td>\n",
       "      <td>20160629A_EV1</td>\n",
       "      <td>43.461335</td>\n",
       "      <td>-113.564219</td>\n",
       "      <td>157.3</td>\n",
       "    </tr>\n",
       "  </tbody>\n",
       "</table>\n",
       "<p>444275 rows × 5 columns</p>\n",
       "</div>"
      ],
      "text/plain": [
       "                 date_time           name   latitude   longitude heading\n",
       "0      2016-06-17 21:58:28  20160617A_EV1  43.446248 -113.564364   153.9\n",
       "1      2016-06-17 21:58:29  20160617A_EV1  43.446248 -113.564364    20.9\n",
       "...                    ...            ...        ...         ...     ...\n",
       "444273 2016-06-29 21:30:37  20160629A_EV1  43.461320 -113.564211    24.8\n",
       "444274 2016-06-29 21:30:39  20160629A_EV1  43.461335 -113.564219   157.3\n",
       "\n",
       "[444275 rows x 5 columns]"
      ]
     },
     "execution_count": 2,
     "metadata": {},
     "output_type": "execute_result"
    }
   ],
   "source": [
    "df"
   ]
  },
  {
   "cell_type": "code",
   "execution_count": 3,
   "metadata": {
    "collapsed": false
   },
   "outputs": [
    {
     "data": {
      "text/plain": [
       "20160622A_EV2    33155\n",
       "20160623A_EV2    32034\n",
       "                 ...  \n",
       "20160617A_EV1      972\n",
       "20160617A_EV2      667\n",
       "Name: name, dtype: int64"
      ]
     },
     "execution_count": 3,
     "metadata": {},
     "output_type": "execute_result"
    }
   ],
   "source": [
    "df['name'].value_counts() # useful to check that selected name actually exists"
   ]
  },
  {
   "cell_type": "code",
   "execution_count": 4,
   "metadata": {
    "collapsed": false,
    "scrolled": true
   },
   "outputs": [
    {
     "data": {
      "text/html": [
       "<div>\n",
       "<table border=\"1\" class=\"dataframe\">\n",
       "  <thead>\n",
       "    <tr style=\"text-align: right;\">\n",
       "      <th></th>\n",
       "      <th>date_time</th>\n",
       "      <th>name</th>\n",
       "      <th>latitude</th>\n",
       "      <th>longitude</th>\n",
       "      <th>heading</th>\n",
       "    </tr>\n",
       "  </thead>\n",
       "  <tbody>\n",
       "    <tr>\n",
       "      <th>433103</th>\n",
       "      <td>2016-06-29 15:11:19</td>\n",
       "      <td>20160629A_EV1</td>\n",
       "      <td>43.461873</td>\n",
       "      <td>-113.571797</td>\n",
       "      <td>141.7</td>\n",
       "    </tr>\n",
       "    <tr>\n",
       "      <th>433104</th>\n",
       "      <td>2016-06-29 15:11:21</td>\n",
       "      <td>20160629A_EV1</td>\n",
       "      <td>43.461873</td>\n",
       "      <td>-113.571797</td>\n",
       "      <td>62.1</td>\n",
       "    </tr>\n",
       "    <tr>\n",
       "      <th>...</th>\n",
       "      <td>...</td>\n",
       "      <td>...</td>\n",
       "      <td>...</td>\n",
       "      <td>...</td>\n",
       "      <td>...</td>\n",
       "    </tr>\n",
       "    <tr>\n",
       "      <th>444273</th>\n",
       "      <td>2016-06-29 21:30:37</td>\n",
       "      <td>20160629A_EV1</td>\n",
       "      <td>43.461320</td>\n",
       "      <td>-113.564211</td>\n",
       "      <td>24.8</td>\n",
       "    </tr>\n",
       "    <tr>\n",
       "      <th>444274</th>\n",
       "      <td>2016-06-29 21:30:39</td>\n",
       "      <td>20160629A_EV1</td>\n",
       "      <td>43.461335</td>\n",
       "      <td>-113.564219</td>\n",
       "      <td>157.3</td>\n",
       "    </tr>\n",
       "  </tbody>\n",
       "</table>\n",
       "<p>11172 rows × 5 columns</p>\n",
       "</div>"
      ],
      "text/plain": [
       "                 date_time           name   latitude   longitude heading\n",
       "433103 2016-06-29 15:11:19  20160629A_EV1  43.461873 -113.571797   141.7\n",
       "433104 2016-06-29 15:11:21  20160629A_EV1  43.461873 -113.571797    62.1\n",
       "...                    ...            ...        ...         ...     ...\n",
       "444273 2016-06-29 21:30:37  20160629A_EV1  43.461320 -113.564211    24.8\n",
       "444274 2016-06-29 21:30:39  20160629A_EV1  43.461335 -113.564219   157.3\n",
       "\n",
       "[11172 rows x 5 columns]"
      ]
     },
     "execution_count": 4,
     "metadata": {},
     "output_type": "execute_result"
    }
   ],
   "source": [
    "testdata = df[df['name']=='20160629A_EV1']\n",
    "testdata"
   ]
  },
  {
   "cell_type": "code",
   "execution_count": 5,
   "metadata": {
    "collapsed": false
   },
   "outputs": [
    {
     "data": {
      "text/html": [
       "<div>\n",
       "<table border=\"1\" class=\"dataframe\">\n",
       "  <thead>\n",
       "    <tr style=\"text-align: right;\">\n",
       "      <th></th>\n",
       "      <th>date_time</th>\n",
       "      <th>latitude</th>\n",
       "      <th>longitude</th>\n",
       "    </tr>\n",
       "  </thead>\n",
       "  <tbody>\n",
       "    <tr>\n",
       "      <th>433103</th>\n",
       "      <td>2016-06-29 15:11:19</td>\n",
       "      <td>43.461873</td>\n",
       "      <td>-113.571797</td>\n",
       "    </tr>\n",
       "    <tr>\n",
       "      <th>433104</th>\n",
       "      <td>2016-06-29 15:11:21</td>\n",
       "      <td>43.461873</td>\n",
       "      <td>-113.571797</td>\n",
       "    </tr>\n",
       "    <tr>\n",
       "      <th>...</th>\n",
       "      <td>...</td>\n",
       "      <td>...</td>\n",
       "      <td>...</td>\n",
       "    </tr>\n",
       "    <tr>\n",
       "      <th>444273</th>\n",
       "      <td>2016-06-29 21:30:37</td>\n",
       "      <td>43.461320</td>\n",
       "      <td>-113.564211</td>\n",
       "    </tr>\n",
       "    <tr>\n",
       "      <th>444274</th>\n",
       "      <td>2016-06-29 21:30:39</td>\n",
       "      <td>43.461335</td>\n",
       "      <td>-113.564219</td>\n",
       "    </tr>\n",
       "  </tbody>\n",
       "</table>\n",
       "<p>11172 rows × 3 columns</p>\n",
       "</div>"
      ],
      "text/plain": [
       "                 date_time   latitude   longitude\n",
       "433103 2016-06-29 15:11:19  43.461873 -113.571797\n",
       "433104 2016-06-29 15:11:21  43.461873 -113.571797\n",
       "...                    ...        ...         ...\n",
       "444273 2016-06-29 21:30:37  43.461320 -113.564211\n",
       "444274 2016-06-29 21:30:39  43.461335 -113.564219\n",
       "\n",
       "[11172 rows x 3 columns]"
      ]
     },
     "execution_count": 5,
     "metadata": {},
     "output_type": "execute_result"
    }
   ],
   "source": [
    "traversal_id = '20160629A_EV1'\n",
    "time_lat_long = df[df['name']== traversal_id][['date_time','latitude','longitude']]\n",
    "time_lat_long"
   ]
  },
  {
   "cell_type": "code",
   "execution_count": 6,
   "metadata": {
    "collapsed": false
   },
   "outputs": [],
   "source": [
    "out = time_lat_long[['latitude','longitude']].iloc[0]"
   ]
  },
  {
   "cell_type": "code",
   "execution_count": 26,
   "metadata": {
    "collapsed": false
   },
   "outputs": [
    {
     "name": "stdout",
     "output_type": "stream",
     "text": [
      "(43.459764136666699, -113.574385796667)\n",
      "(43.463998991666699, -113.564180421667)\n"
     ]
    }
   ],
   "source": [
    "min_vals = time_lat_long[['latitude','longitude']].min()\n",
    "max_vals = time_lat_long[['latitude','longitude']].max()\n",
    "print(min_vals.latitude, min_vals.longitude)\n",
    "print(max_vals.latitude, max_vals.longitude)"
   ]
  },
  {
   "cell_type": "code",
   "execution_count": 8,
   "metadata": {
    "collapsed": false
   },
   "outputs": [
    {
     "data": {
      "text/plain": [
       "33516"
      ]
     },
     "execution_count": 8,
     "metadata": {},
     "output_type": "execute_result"
    }
   ],
   "source": [
    "time_lat_long.size"
   ]
  },
  {
   "cell_type": "code",
   "execution_count": 9,
   "metadata": {
    "collapsed": false
   },
   "outputs": [],
   "source": [
    "from api import *\n",
    "import numpy as np\n",
    "time_lat_long_np = time_lat_long[['latitude','longitude']].values"
   ]
  },
  {
   "cell_type": "code",
   "execution_count": 10,
   "metadata": {
    "collapsed": false
   },
   "outputs": [
    {
     "data": {
      "text/plain": [
       "array([-113.57179652, -113.57179679, -113.57179652, ..., -113.5642193 ,\n",
       "       -113.56421135, -113.5642191 ])"
      ]
     },
     "execution_count": 10,
     "metadata": {},
     "output_type": "execute_result"
    }
   ],
   "source": [
    "time_lat_long_np[:,1]"
   ]
  },
  {
   "cell_type": "code",
   "execution_count": 11,
   "metadata": {
    "collapsed": false,
    "scrolled": true
   },
   "outputs": [],
   "source": [
    "latlongcoord = LatLongCoord(time_lat_long_np[:,0], time_lat_long_np[:,1])"
   ]
  },
  {
   "cell_type": "code",
   "execution_count": 12,
   "metadata": {
    "collapsed": false
   },
   "outputs": [
    {
     "data": {
      "text/plain": [
       "[array([ 43.46187283,  43.4618729 ,  43.46187282, ...,  43.46133083,\n",
       "         43.46131952,  43.46133547]),\n",
       " array([-113.57179652, -113.57179679, -113.57179652, ..., -113.5642193 ,\n",
       "        -113.56421135, -113.5642191 ])]"
      ]
     },
     "execution_count": 12,
     "metadata": {},
     "output_type": "execute_result"
    }
   ],
   "source": [
    "latlongcoord.latLongList()"
   ]
  },
  {
   "cell_type": "code",
   "execution_count": null,
   "metadata": {
    "collapsed": true
   },
   "outputs": [],
   "source": []
  }
 ],
 "metadata": {
  "anaconda-cloud": {},
  "kernelspec": {
   "display_name": "Python [conda env:pextant]",
   "language": "python",
   "name": "conda-env-pextant-py"
  },
  "language_info": {
   "codemirror_mode": {
    "name": "ipython",
    "version": 2
   },
   "file_extension": ".py",
   "mimetype": "text/x-python",
   "name": "python",
   "nbconvert_exporter": "python",
   "pygments_lexer": "ipython2",
   "version": "2.7.12"
  }
 },
 "nbformat": 4,
 "nbformat_minor": 0
}
