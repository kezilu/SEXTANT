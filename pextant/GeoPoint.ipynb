{
 "cells": [
  {
   "cell_type": "markdown",
   "metadata": {},
   "source": [
    "Geographical points being key data, but also coming in several different data structures will require an abstraction to deal with it easier. We will implement this idea throuhg a python class GeoPoint:"
   ]
  },
  {
   "cell_type": "code",
   "execution_count": 290,
   "metadata": {
    "collapsed": false
   },
   "outputs": [],
   "source": [
    "import pyproj\n",
    "\n",
    "class GeoType(object):\n",
    "    def __init__(self, name, values, projparam):\n",
    "        self.name = name\n",
    "        self.values = values\n",
    "        self.projparam = projparam\n",
    "        \n",
    "    def getProj(self, geo_point):\n",
    "        proj = self.projparam[\"proj\"]\n",
    "        \n",
    "        for k,v in self.projparam.iteritems():\n",
    "            for val in self.values:\n",
    "                self.projparam[k] = geo_point.data[v] if v==val else v\n",
    "                    \n",
    "        # add additional parameters here\n",
    "        self.projparam[\"datum\"] = \"WGS84\"\n",
    "        \n",
    "        proj_param = self.projparam;\n",
    "        p = pyproj.Proj(**proj_param)            \n",
    "        \n",
    "        return p\n",
    "    \n",
    "    def transform(self, geo_point, to_geo_type):\n",
    "        p_from = self.getProj(geo_point)\n",
    "        p_to = to_geo_type.getProj(geo_point)\n",
    "        # need to add function that is specific to geo_type. Problem comes from dealing with coord type values\n",
    "        # x, y = geo_point.data[self.values[0]], geo_point.data[self.values[1]] # TODO: make function for this?\n",
    "        x,y = self.getargs(geo_point)\n",
    "        \n",
    "        out1, out2 = pyproj.transform(p_from, p_to, x, y)\n",
    "        \n",
    "        out3, out4 = to_geo_type.postprocess((out1, out2))\n",
    "        \n",
    "        return out3, out4\n",
    "    \n",
    "    def postprocess(selg, transformed_points):\n",
    "        return transformed_points\n",
    "    \n",
    "    def getargs(self, geo_point):\n",
    "        return self.getargshelper(geo_point)\n",
    "    \n",
    "    def getargshelper(self, geo_point):\n",
    "        return geo_point.data[self.values[0]], geo_point.data[self.values[1]]\n",
    "    \n",
    "    # these where early protoypes, just here for doc purposes\n",
    "    def getfirstarg(self, geo_point):\n",
    "        return geo_point.data[self.values[0]]\n",
    "    \n",
    "    def getsecondarg(self, geo_point):\n",
    "        return geo_point.data[self.values[1]]\n",
    "        \n",
    "    "
   ]
  },
  {
   "cell_type": "code",
   "execution_count": 300,
   "metadata": {
    "collapsed": false
   },
   "outputs": [],
   "source": [
    "import numpy as np\n",
    "\n",
    "#realization: utm and latlong are \"primitive\" geoTypes. DEMType has a different structure, \n",
    "# but still same interface as the other geoTypes. It also relies on geo_points interface\n",
    "class DEMType(GeoType):\n",
    "    # needed for all coordinate conversions. got some serious bootstrapping going on right here\n",
    "    utm = GeoType(\"utm\", [\"easting\", \"northing\", \"zonenum\"], {\"proj\": \"utm\", \"zone\": \"zonenum\"})\n",
    "    \n",
    "    def __init__(self, origin):\n",
    "        self.name = \"coord\"\n",
    "        self.values = ['x','y']\n",
    "        # doing conversion early on will save use from redoing it later, we don't expect our origin to change too much\n",
    "        self.origin = np.array(origin.to(utm)) \n",
    "        self.projparamt = []\n",
    "    \n",
    "    #TODO: should be able to clean transform function even more\n",
    "    def getProj(self, geo_points):\n",
    "        return utm.getProj(geo_points)\n",
    "    \n",
    "    # this function is used internally and externally\n",
    "    def getargs(self, geo_points):\n",
    "        origin_easting, origin_northing = self.origin\n",
    "        # next line should ideally be super.getargs, but we overwrite the fx so not sure if possible\n",
    "        x, y = geo_points.data[geo_points.geo_type.values[0]], geo_points.data[geo_points.geo_type.values[1]]\n",
    "        points_easting, points_northing = origin_easting + x, origin_northing - y\n",
    "        return points_easting, points_northing\n",
    "    \n",
    "    def postprocess(self, transformed_points):\n",
    "        origin_easting, origin_northing = self.origin\n",
    "        points_easting, points_northing = transformed_points\n",
    "        x, y = (points_easting - origin_easting, origin_northing - points_northing)\n",
    "        return x, y\n",
    "    \n",
    "    \n",
    "    def transform(self, geo_points, to_geo_type):\n",
    "        x,y = geo_point.data[self.values[0]], geo_point.data[self.values[1]]\n",
    "        \n",
    "        # if we didnt do conversion eaerlier this is where we would have to do it\n",
    "        origin_easting, origin_northing = self.origin\n",
    "        points_easting, points_northing = origin_easting + x, origin_northing - y\n",
    "        \n",
    "        out3, out4 = to_geo_type.postprocess((points_easting, points_northing))\n",
    "        \n",
    "        return out3, out4\n",
    "        "
   ]
  },
  {
   "cell_type": "code",
   "execution_count": 301,
   "metadata": {
    "collapsed": false
   },
   "outputs": [],
   "source": [
    "class GeoPoint(object):\n",
    "    def __init__(self, geo_type, *args):\n",
    "        self.geo_type = geo_type \n",
    "        self.data = dict()\n",
    "    \n",
    "        counter = 0\n",
    "        for arg in args:\n",
    "            #print geo_type.values[counter]\n",
    "            self.data[geo_type.values[counter]] = arg\n",
    "            #print arg\n",
    "            counter+=1\n",
    "            \n",
    "    def disp(self):\n",
    "        for k,v in self.data.iteritems():\n",
    "            print \"%s : %s\" % (k, v)\n",
    "    \n",
    "    def raw(self):\n",
    "        return self.data.values()\n",
    "    \n",
    "    def values(self):\n",
    "        # need to make immutable\n",
    "        return self.data.copy()\n",
    "    \n",
    "    def to(self, to_geo_type):\n",
    "        out1, out2 = self.geo_type.transform(self, to_geo_type)\n",
    "        \n",
    "        return out1, out2\n"
   ]
  },
  {
   "cell_type": "code",
   "execution_count": 302,
   "metadata": {
    "collapsed": false
   },
   "outputs": [
    {
     "name": "stdout",
     "output_type": "stream",
     "text": [
      "('utm', 'latlon', 291931.3692960277, 4815292.614504369)\n",
      "(43.46162074316451, -113.572018535213)\n"
     ]
    }
   ],
   "source": [
    "utm = GeoType(\"utm\", [\"easting\", \"northing\", \"zonenum\"], {\"proj\": \"utm\", \"zone\": \"zonenum\"})\n",
    "latlong = GeoType(\"latlon\", [\"longitude\", \"latitude\"], {\"proj\": \"latlong\"})\n",
    "origin = GeoPoint(utm, 291931.3692960277, 4815292.614504369, 12)\n",
    "(lon,lat) = origin.to(latlong)\n",
    "print(lat,lon)"
   ]
  },
  {
   "cell_type": "code",
   "execution_count": 303,
   "metadata": {
    "collapsed": false
   },
   "outputs": [
    {
     "name": "stdout",
     "output_type": "stream",
     "text": [
      "('utm', 'utm', 291931.3692960277, 4815292.614504369)\n"
     ]
    }
   ],
   "source": [
    "coord = DEMType(origin)"
   ]
  },
  {
   "cell_type": "code",
   "execution_count": 304,
   "metadata": {
    "collapsed": false
   },
   "outputs": [
    {
     "data": {
      "text/plain": [
       "array([  291931.36929603,  4815292.61450437])"
      ]
     },
     "execution_count": 304,
     "metadata": {},
     "output_type": "execute_result"
    }
   ],
   "source": [
    "coord.origin"
   ]
  },
  {
   "cell_type": "code",
   "execution_count": 305,
   "metadata": {
    "collapsed": false,
    "scrolled": true
   },
   "outputs": [
    {
     "name": "stdout",
     "output_type": "stream",
     "text": [
      "{'latitude': 43.46162074316451, 'longitude': -113.572018535213}\n"
     ]
    }
   ],
   "source": [
    "point2 = GeoPoint(latlong, lon, lat)\n",
    "print(point2.data)"
   ]
  },
  {
   "cell_type": "code",
   "execution_count": 306,
   "metadata": {
    "collapsed": false
   },
   "outputs": [
    {
     "data": {
      "text/html": [
       "<div>\n",
       "<table border=\"1\" class=\"dataframe\">\n",
       "  <thead>\n",
       "    <tr style=\"text-align: right;\">\n",
       "      <th></th>\n",
       "      <th>longitude</th>\n",
       "      <th>latitude</th>\n",
       "    </tr>\n",
       "  </thead>\n",
       "  <tbody>\n",
       "    <tr>\n",
       "      <th>0</th>\n",
       "      <td>-113.572019</td>\n",
       "      <td>43.461621</td>\n",
       "    </tr>\n",
       "    <tr>\n",
       "      <th>1</th>\n",
       "      <td>-113.571818</td>\n",
       "      <td>43.462455</td>\n",
       "    </tr>\n",
       "    <tr>\n",
       "      <th>...</th>\n",
       "      <td>...</td>\n",
       "      <td>...</td>\n",
       "    </tr>\n",
       "    <tr>\n",
       "      <th>9</th>\n",
       "      <td>-113.573593</td>\n",
       "      <td>43.463636</td>\n",
       "    </tr>\n",
       "    <tr>\n",
       "      <th>10</th>\n",
       "      <td>-113.574050</td>\n",
       "      <td>43.463874</td>\n",
       "    </tr>\n",
       "  </tbody>\n",
       "</table>\n",
       "<p>11 rows × 2 columns</p>\n",
       "</div>"
      ],
      "text/plain": [
       "     longitude   latitude\n",
       "0  -113.572019  43.461621\n",
       "1  -113.571818  43.462455\n",
       "..         ...        ...\n",
       "9  -113.573593  43.463636\n",
       "10 -113.574050  43.463874\n",
       "\n",
       "[11 rows x 2 columns]"
      ]
     },
     "execution_count": 306,
     "metadata": {},
     "output_type": "execute_result"
    }
   ],
   "source": [
    "import json\n",
    "import pandas as pd\n",
    "pd.options.display.max_rows = 5\n",
    "\n",
    "with open('MD10_EVA10_Stn18_Stn23_X.json') as data_file:    \n",
    "    data = json.load(data_file)\n",
    "ways_and_segments = data['sequence']\n",
    "s = pd.DataFrame(ways_and_segments)\n",
    "waypoints = s[s['type']=='Station']['geometry']\n",
    "w = waypoints.values.tolist()\n",
    "latlongFull = pd.DataFrame(w)\n",
    "latlongInter = latlongFull['coordinates'].values.tolist()\n",
    "waypointslatlong = pd.DataFrame(latlongInter, columns=['longitude','latitude'])\n",
    "waypointslatlong"
   ]
  },
  {
   "cell_type": "code",
   "execution_count": 307,
   "metadata": {
    "collapsed": false
   },
   "outputs": [],
   "source": [
    "waypoints = GeoPoint(latlong, waypointslatlong['longitude'].values, waypointslatlong['latitude'].values)"
   ]
  },
  {
   "cell_type": "code",
   "execution_count": 308,
   "metadata": {
    "collapsed": false
   },
   "outputs": [
    {
     "name": "stdout",
     "output_type": "stream",
     "text": [
      "check\n",
      "('latlon', 'coord', array([-113.57201854, -113.57181845, -113.57158672, -113.57174616,\n",
      "       -113.57174874, -113.57189094, -113.57219385, -113.57266771,\n",
      "       -113.57305409, -113.5735927 , -113.5740501 ]), array([ 43.46162074,  43.46245467,  43.46283157,  43.46295182,\n",
      "        43.46319999,  43.46317908,  43.46329632,  43.46331013,\n",
      "        43.46330418,  43.4636355 ,  43.4638741 ]))\n"
     ]
    },
    {
     "data": {
      "text/plain": [
       "(array([   0.        ,   19.04848272,   39.08867053,   26.60239684,\n",
       "          27.24575373,   15.6704511 ,   -8.43224242,  -46.71940985,\n",
       "         -77.99637105, -120.43133923, -156.61426585]),\n",
       " array([ -9.31322575e-10,  -9.21189277e+01,  -1.33399649e+02,\n",
       "         -1.47153399e+02,  -1.74722459e+02,  -1.72755794e+02,\n",
       "         -1.86533707e+02,  -1.89251676e+02,  -1.89557736e+02,\n",
       "         -2.27702148e+02,  -2.55346097e+02]))"
      ]
     },
     "execution_count": 308,
     "metadata": {},
     "output_type": "execute_result"
    }
   ],
   "source": [
    "waypoints.to(coord)"
   ]
  },
  {
   "cell_type": "code",
   "execution_count": null,
   "metadata": {
    "collapsed": true
   },
   "outputs": [],
   "source": []
  },
  {
   "cell_type": "code",
   "execution_count": null,
   "metadata": {
    "collapsed": true
   },
   "outputs": [],
   "source": []
  }
 ],
 "metadata": {
  "anaconda-cloud": {},
  "kernelspec": {
   "display_name": "Python [conda env:pextant]",
   "language": "python",
   "name": "conda-env-pextant-py"
  },
  "language_info": {
   "codemirror_mode": {
    "name": "ipython",
    "version": 2
   },
   "file_extension": ".py",
   "mimetype": "text/x-python",
   "name": "python",
   "nbconvert_exporter": "python",
   "pygments_lexer": "ipython2",
   "version": "2.7.12"
  }
 },
 "nbformat": 4,
 "nbformat_minor": 1
}
