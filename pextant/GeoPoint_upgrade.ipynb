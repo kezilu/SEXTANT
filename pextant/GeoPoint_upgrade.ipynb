{
 "cells": [
  {
   "cell_type": "markdown",
   "metadata": {},
   "source": [
    "Geographical points being key data, but also coming in several different data structures will require an abstraction to deal with it easier. We will implement this idea throuhg a python class GeoPoint:"
   ]
  },
  {
   "cell_type": "code",
   "execution_count": null,
   "metadata": {
    "collapsed": true
   },
   "outputs": [],
   "source": [
    "class Transformer(object):\n",
    "    \n",
    "    def getProj(self, geo_point):\n",
    "        proj = self.projparam[\"proj\"]\n",
    "        \n",
    "        for k,v in self.projparam.iteritems():\n",
    "            for val in self.values:\n",
    "                self.projparam[k] = geo_point.data[v] if v==val else v\n",
    "                    \n",
    "        # add additional parameters here\n",
    "        self.projparam[\"datum\"] = \"WGS84\"\n",
    "        \n",
    "        proj_param = self.projparam;\n",
    "        p = pyproj.Proj(**proj_param) \n",
    "        \n",
    "    def transform_implementation(self, geo_point, to_geo_type):\n",
    "        p_from = self.getProj(geo_point)\n",
    "        p_to = to_geo_type.getProj(geo_point)\n",
    "        # need to add function that is specific to geo_type. Problem comes from dealing with coord type values\n",
    "        # x, y = geo_point.data[self.values[0]], geo_point.data[self.values[1]] # TODO: make function for this?\n",
    "        x,y = self.getargs(geo_point)\n",
    "        \n",
    "        out1, out2 = pyproj.transform(p_from, p_to, x, y)\n",
    "        \n",
    "        return out1, out2\n",
    "    "
   ]
  },
  {
   "cell_type": "code",
   "execution_count": 24,
   "metadata": {
    "collapsed": false
   },
   "outputs": [],
   "source": [
    "import pyproj\n",
    "\n",
    "class GeoType(object):\n",
    "    def __init__(self, name, values, projparam, projtransformorder):\n",
    "        self.name = name\n",
    "        self.values = values\n",
    "        self.projparam = projparam\n",
    "        self.proj_transform_order = projtransformorder\n",
    "        \n",
    "    def getProj(self, geo_point):\n",
    "        proj = self.projparam[\"proj\"]\n",
    "        \n",
    "        for k,v in self.projparam.iteritems():\n",
    "            for val in self.values:\n",
    "                self.projparam[k] = geo_point.data[v] if v==val else v\n",
    "                    \n",
    "        # add additional parameters here\n",
    "        self.projparam[\"datum\"] = \"WGS84\"\n",
    "        \n",
    "        proj_param = self.projparam;\n",
    "        p = pyproj.Proj(**proj_param)            \n",
    "        \n",
    "        return p\n",
    "    \n",
    "    # will belong to all instance\n",
    "    def transform(self, geo_point, to_geo_type):\n",
    "        out1, out2 = self.transform_implementation(geo_point, to_geo_type)\n",
    "        out3, out4 = to_geo_type.postprocess((out1, out2))\n",
    "        return out3, out4\n",
    "    \n",
    "    # will be specific to certain instances\n",
    "    def transform_implementation(self, geo_point, to_geo_type):\n",
    "        p_from = self.getProj(geo_point)\n",
    "        p_to = to_geo_type.getProj(geo_point)\n",
    "        # need to add function that is specific to geo_type. Problem comes from dealing with coord type values\n",
    "        # x, y = geo_point.data[self.values[0]], geo_point.data[self.values[1]] # TODO: make function for this?\n",
    "        x,y = self.getargs(geo_point)\n",
    "        \n",
    "        out1, out2 = pyproj.transform(p_from, p_to, x, y)\n",
    "        \n",
    "        return out1, out2\n",
    "    \n",
    "    def postprocess(selg, transformed_points):\n",
    "        return transformed_points\n",
    "    \n",
    "    def getargs(self, geo_point):\n",
    "        return self.getargshelper(geo_point)\n",
    "    \n",
    "    def getargshelper(self, geo_point):\n",
    "        return geo_point.data[self.proj_transform_order[0]], geo_point.data[self.proj_transform_order[1]]\n",
    "        \n",
    "    "
   ]
  },
  {
   "cell_type": "code",
   "execution_count": 166,
   "metadata": {
    "collapsed": false
   },
   "outputs": [],
   "source": [
    "import numpy as np\n",
    "from math import floor\n",
    "\n",
    "#realization: utm and latlong are \"primitive\" geoTypes. DEMType has a different structure, \n",
    "# but still same interface as the other geoTypes. It also relies on geo_points interface\n",
    "class DEMType(GeoType):\n",
    "    # needed for all coordinate conversions. got some serious bootstrapping going on right here\n",
    "    utm = GeoType(\"utm\", [\"easting\", \"northing\", \"zonenum\"], {\"proj\": \"utm\", \"zone\": \"zonenum\"},[\"easting\",\"northing\"])\n",
    "    \n",
    "    def __init__(self, origin, resolution):\n",
    "        self.name = \"coord\"\n",
    "        self.values = ['x','y']\n",
    "        # doing conversion early on will save use from redoing it later, we don't expect our origin to change too much\n",
    "        self.origin = np.array(origin.to(utm)) \n",
    "        self.projparamt = []\n",
    "        self.resolution = resolution\n",
    "    \n",
    "    #TODO: should be able to clean transform function even more\n",
    "    def getProj(self, geo_points):\n",
    "        return utm.getProj(geo_points)\n",
    "    \n",
    "    # this function is used internally and externally\n",
    "    def getargs(self, geo_points):\n",
    "        origin_easting, origin_northing = self.origin\n",
    "        # next line should ideally be super.getargs, but we overwrite the fx so not sure if possible\n",
    "        x, y = geo_points.data[geo_points.geo_type.values[0]], geo_points.data[geo_points.geo_type.values[1]]\n",
    "        points_easting, points_northing = origin_easting + x, origin_northing - y\n",
    "        return points_easting, points_northing\n",
    "    \n",
    "    def postprocess(self, transformed_points):\n",
    "        origin_easting, origin_northing = self.origin\n",
    "        points_easting, points_northing = transformed_points\n",
    "        x, y = (points_easting - origin_easting, origin_northing - points_northing)\n",
    "        return np.floor(x/self.resolution), np.floor(y/self.resolution)\n",
    "    \n",
    "    \n",
    "    def transform_implementation(self, geo_points, to_geo_type):\n",
    "        x,y = geo_point.data[self.values[0]], geo_point.data[self.values[1]]\n",
    "        \n",
    "        # if we didnt do conversion eaerlier this is where we would have to do it\n",
    "        origin_easting, origin_northing = self.origin\n",
    "        points_easting, points_northing = origin_easting + x, origin_northing - y\n",
    "        \n",
    "        return points_easting, points_northing\n",
    "        "
   ]
  },
  {
   "cell_type": "code",
   "execution_count": 184,
   "metadata": {
    "collapsed": false
   },
   "outputs": [],
   "source": [
    "class GeoPoint(object):\n",
    "    def __init__(self, geo_type, *args):\n",
    "        self.geo_type = geo_type \n",
    "        self.data = dict()\n",
    "    \n",
    "        counter = 0\n",
    "        \n",
    "        if len(args) == 1:\n",
    "            # python pandas library\n",
    "            pandalist = args[0]\n",
    "            for entry in geo_type.values:\n",
    "                self.data[entry] = pandalist[entry].values        \n",
    "        else:\n",
    "            for arg in args:\n",
    "                #print geo_type.values[counter]\n",
    "                self.data[geo_type.values[counter]] = arg\n",
    "                #print arg\n",
    "                counter+=1\n",
    "            \n",
    "    def disp(self):\n",
    "        for k,v in self.data.iteritems():\n",
    "            print \"%s : %s\" % (k, v)\n",
    "    \n",
    "    def raw(self):\n",
    "        return self.data.values()\n",
    "    \n",
    "    def values(self):\n",
    "        # need to make immutable\n",
    "        return self.data.copy()\n",
    "    \n",
    "    def to(self, to_geo_type):\n",
    "        if self.geo_type != to_geo_type:\n",
    "            out1, out2 = self.geo_type.transform(self, to_geo_type)\n",
    "        else:\n",
    "            return self.raw()\n",
    "        \n",
    "        return np.array((out1, out2))\n",
    "    \n",
    "    def square(self):\n",
    "        easting, northing = self.to(utm)\n",
    "        minx = easting.min()\n",
    "        miny = northing.min()\n",
    "        maxx = easting.max()\n",
    "        maxy = northing.max()\n",
    "        xcoords = np.array([minx, minx, maxx, maxx])\n",
    "        ycoords = np.array([maxy, miny, miny, maxy])\n",
    "        return GeoPoint(utm, xcoords, ycoords)"
   ]
  },
  {
   "cell_type": "code",
   "execution_count": 185,
   "metadata": {
    "collapsed": false
   },
   "outputs": [
    {
     "name": "stdout",
     "output_type": "stream",
     "text": [
      "(43.461620743164509, -113.572018535213)\n"
     ]
    }
   ],
   "source": [
    "utm = GeoType(\"utm\", [\"easting\", \"northing\", \"zonenum\"], {\"proj\": \"utm\", \"zone\": \"zonenum\"}, [\"easting\", \"northing\"])\n",
    "latlong = GeoType(\"latlon\", [\"latitude\", \"longitude\"], {\"proj\": \"latlong\"}, [\"longitude\", \"latitude\"])\n",
    "origin = GeoPoint(utm, 291931.3692960277, 4815292.614504369, 12)\n",
    "(lon,lat) = origin.to(latlong)\n",
    "print(lat,lon)"
   ]
  },
  {
   "cell_type": "code",
   "execution_count": 186,
   "metadata": {
    "collapsed": false,
    "scrolled": true
   },
   "outputs": [
    {
     "name": "stdout",
     "output_type": "stream",
     "text": [
      "{'latitude': -113.572018535213, 'longitude': 43.461620743164509}\n"
     ]
    }
   ],
   "source": [
    "point2 = GeoPoint(latlong, lon, lat)\n",
    "print(point2.data)"
   ]
  },
  {
   "cell_type": "code",
   "execution_count": 187,
   "metadata": {
    "collapsed": false
   },
   "outputs": [
    {
     "data": {
      "text/html": [
       "<div>\n",
       "<table border=\"1\" class=\"dataframe\">\n",
       "  <thead>\n",
       "    <tr style=\"text-align: right;\">\n",
       "      <th></th>\n",
       "      <th>longitude</th>\n",
       "      <th>latitude</th>\n",
       "    </tr>\n",
       "  </thead>\n",
       "  <tbody>\n",
       "    <tr>\n",
       "      <th>0</th>\n",
       "      <td>-113.572019</td>\n",
       "      <td>43.461621</td>\n",
       "    </tr>\n",
       "    <tr>\n",
       "      <th>1</th>\n",
       "      <td>-113.571818</td>\n",
       "      <td>43.462455</td>\n",
       "    </tr>\n",
       "    <tr>\n",
       "      <th>...</th>\n",
       "      <td>...</td>\n",
       "      <td>...</td>\n",
       "    </tr>\n",
       "    <tr>\n",
       "      <th>9</th>\n",
       "      <td>-113.573593</td>\n",
       "      <td>43.463636</td>\n",
       "    </tr>\n",
       "    <tr>\n",
       "      <th>10</th>\n",
       "      <td>-113.574050</td>\n",
       "      <td>43.463874</td>\n",
       "    </tr>\n",
       "  </tbody>\n",
       "</table>\n",
       "<p>11 rows × 2 columns</p>\n",
       "</div>"
      ],
      "text/plain": [
       "     longitude   latitude\n",
       "0  -113.572019  43.461621\n",
       "1  -113.571818  43.462455\n",
       "..         ...        ...\n",
       "9  -113.573593  43.463636\n",
       "10 -113.574050  43.463874\n",
       "\n",
       "[11 rows x 2 columns]"
      ]
     },
     "execution_count": 187,
     "metadata": {},
     "output_type": "execute_result"
    }
   ],
   "source": [
    "import json\n",
    "import pandas as pd\n",
    "pd.options.display.max_rows = 5\n",
    "\n",
    "with open('MD10_EVA10_Stn18_Stn23_X.json') as data_file:    \n",
    "    data = json.load(data_file)\n",
    "ways_and_segments = data['sequence']\n",
    "s = pd.DataFrame(ways_and_segments)\n",
    "waypoints = s[s['type']=='Station']['geometry']\n",
    "w = waypoints.values.tolist()\n",
    "latlongFull = pd.DataFrame(w)\n",
    "latlongInter = latlongFull['coordinates'].values.tolist()\n",
    "waypointslatlong = pd.DataFrame(latlongInter, columns=['longitude','latitude'])\n",
    "waypointslatlong"
   ]
  },
  {
   "cell_type": "code",
   "execution_count": 213,
   "metadata": {
    "collapsed": false
   },
   "outputs": [
    {
     "name": "stdout",
     "output_type": "stream",
     "text": [
      "[array([ 291774.75503018,  291774.75503018,  291970.45796656,\n",
      "        291970.45796656]), array([ 4815547.96060183,  4815292.61450437,  4815292.61450437,\n",
      "        4815547.96060183])]\n"
     ]
    }
   ],
   "source": [
    "waypoints = GeoPoint(latlong, waypointslatlong)\n",
    "square = waypoints.square()\n",
    "print(square.to(utm))"
   ]
  },
  {
   "cell_type": "code",
   "execution_count": 189,
   "metadata": {
    "collapsed": false
   },
   "outputs": [],
   "source": [
    "easting, northing = square.to(utm)\n",
    "coordorigin = GeoPoint(utm, easting[0], northing[0])\n",
    "coord = DEMType(coordorigin, 0.2)"
   ]
  },
  {
   "cell_type": "code",
   "execution_count": 190,
   "metadata": {
    "collapsed": false
   },
   "outputs": [
    {
     "data": {
      "text/plain": [
       "array([[  783.,   878.,   978.,   916.,   919.,   861.,   740.,   549.,\n",
       "          393.,   180.,     0.],\n",
       "       [ 1276.,   816.,   609.,   540.,   403.,   412.,   344.,   330.,\n",
       "          328.,   138.,     0.]])"
      ]
     },
     "execution_count": 190,
     "metadata": {},
     "output_type": "execute_result"
    }
   ],
   "source": [
    "waypoints.to(coord)"
   ]
  },
  {
   "cell_type": "code",
   "execution_count": 201,
   "metadata": {
    "collapsed": false
   },
   "outputs": [],
   "source": [
    "coordinates = np.transpose(waypoints.to(latlong))\n",
    "matrixcords = np.transpose(waypoints.to(coord))"
   ]
  },
  {
   "cell_type": "code",
   "execution_count": 214,
   "metadata": {
    "collapsed": false
   },
   "outputs": [
    {
     "data": {
      "text/html": [
       "<div style=\"width:100%;\"><div style=\"position:relative;width:100%;height:0;padding-bottom:60%;\"><iframe src=\"data:text/html;base64,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\" style=\"position:absolute;width:100%;height:100%;left:0;top:0;\"></iframe></div></div>"
      ],
      "text/plain": [
       "<folium.folium.Map at 0x7e80e10>"
      ]
     },
     "execution_count": 214,
     "metadata": {},
     "output_type": "execute_result"
    }
   ],
   "source": [
    "import folium\n",
    "map_osm = folium.Map(location=[43.459764136666699, -113.574385796667], tiles='Stamen Terrain',\n",
    "           zoom_start=13)\n",
    "\n",
    "counter = 0\n",
    "for cc in coordinates:\n",
    "    folium.Marker(cc, popup='point '+str(matrixcords[counter,:])+\" | \"+str(cc), icon=folium.Icon(icon='cloud')).add_to(map_osm) \n",
    "    counter+=1\n",
    "\n",
    "\n",
    "map_osm"
   ]
  },
  {
   "cell_type": "code",
   "execution_count": null,
   "metadata": {
    "collapsed": true
   },
   "outputs": [],
   "source": []
  },
  {
   "cell_type": "code",
   "execution_count": null,
   "metadata": {
    "collapsed": true
   },
   "outputs": [],
   "source": []
  }
 ],
 "metadata": {
  "anaconda-cloud": {},
  "kernelspec": {
   "display_name": "Python [conda env:pextant]",
   "language": "python",
   "name": "conda-env-pextant-py"
  },
  "language_info": {
   "codemirror_mode": {
    "name": "ipython",
    "version": 2
   },
   "file_extension": ".py",
   "mimetype": "text/x-python",
   "name": "python",
   "nbconvert_exporter": "python",
   "pygments_lexer": "ipython2",
   "version": "2.7.12"
  }
 },
 "nbformat": 4,
 "nbformat_minor": 1
}
