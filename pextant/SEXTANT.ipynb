{
 "cells": [
  {
   "cell_type": "code",
   "execution_count": 2,
   "metadata": {
    "collapsed": true
   },
   "outputs": [],
   "source": [
    "from EnvironmentalModel import *\n",
    "\n",
    "dem_path = 'maps/hwmidres.tif'"
   ]
  },
  {
   "cell_type": "code",
   "execution_count": 4,
   "metadata": {
    "collapsed": false
   },
   "outputs": [
    {
     "data": {
      "text/html": [
       "<div>\n",
       "<table border=\"1\" class=\"dataframe\">\n",
       "  <thead>\n",
       "    <tr style=\"text-align: right;\">\n",
       "      <th></th>\n",
       "      <th>longitude</th>\n",
       "      <th>latitude</th>\n",
       "    </tr>\n",
       "  </thead>\n",
       "  <tbody>\n",
       "    <tr>\n",
       "      <th>0</th>\n",
       "      <td>-113.572019</td>\n",
       "      <td>43.461621</td>\n",
       "    </tr>\n",
       "    <tr>\n",
       "      <th>1</th>\n",
       "      <td>-113.571818</td>\n",
       "      <td>43.462455</td>\n",
       "    </tr>\n",
       "    <tr>\n",
       "      <th>...</th>\n",
       "      <td>...</td>\n",
       "      <td>...</td>\n",
       "    </tr>\n",
       "    <tr>\n",
       "      <th>9</th>\n",
       "      <td>-113.573593</td>\n",
       "      <td>43.463636</td>\n",
       "    </tr>\n",
       "    <tr>\n",
       "      <th>10</th>\n",
       "      <td>-113.574050</td>\n",
       "      <td>43.463874</td>\n",
       "    </tr>\n",
       "  </tbody>\n",
       "</table>\n",
       "<p>11 rows × 2 columns</p>\n",
       "</div>"
      ],
      "text/plain": [
       "     longitude   latitude\n",
       "0  -113.572019  43.461621\n",
       "1  -113.571818  43.462455\n",
       "..         ...        ...\n",
       "9  -113.573593  43.463636\n",
       "10 -113.574050  43.463874\n",
       "\n",
       "[11 rows x 2 columns]"
      ]
     },
     "execution_count": 4,
     "metadata": {},
     "output_type": "execute_result"
    }
   ],
   "source": [
    "import pandas as pd\n",
    "import json\n",
    "pd.options.display.max_rows = 5\n",
    "\n",
    "with open('MD10_EVA10_Stn18_Stn23_X.json') as data_file:    \n",
    "    data = json.load(data_file)\n",
    "ways_and_segments = data['sequence']\n",
    "s = pd.DataFrame(ways_and_segments)\n",
    "waypoints = s[s['type']=='Station']['geometry']\n",
    "w = waypoints.values.tolist()\n",
    "latlongFull = pd.DataFrame(w)\n",
    "latlongInter = latlongFull['coordinates'].values.tolist()\n",
    "latlong = pd.DataFrame(latlongInter, columns=['longitude','latitude'])\n",
    "latlong"
   ]
  },
  {
   "cell_type": "code",
   "execution_count": 11,
   "metadata": {
    "collapsed": false
   },
   "outputs": [],
   "source": [
    "lat, lon = latlong[['latitude','longitude']].min()\n",
    "NWCorner = LatLongCoord(lat,lon)\n",
    "lat, lon = latlong[['latitude','longitude']].max()\n",
    "SECorner = LatLongCoord(lat,lon)"
   ]
  },
  {
   "cell_type": "code",
   "execution_count": 12,
   "metadata": {
    "collapsed": false
   },
   "outputs": [
    {
     "ename": "AttributeError",
     "evalue": "'LatLongCoord' object has no attribute 'type'",
     "output_type": "error",
     "traceback": [
      "\u001b[0;31m---------------------------------------------------------------------------\u001b[0m",
      "\u001b[0;31mAttributeError\u001b[0m                            Traceback (most recent call last)",
      "\u001b[0;32m<ipython-input-12-26ecbb3111c8>\u001b[0m in \u001b[0;36m<module>\u001b[0;34m()\u001b[0m\n\u001b[0;32m----> 1\u001b[0;31m \u001b[0mEM\u001b[0m \u001b[1;33m=\u001b[0m \u001b[0mloadElevationMap\u001b[0m\u001b[1;33m(\u001b[0m\u001b[0mdem_path\u001b[0m\u001b[1;33m,\u001b[0m \u001b[0mNWCorner\u001b[0m\u001b[1;33m=\u001b[0m\u001b[0mNWCorner\u001b[0m\u001b[1;33m,\u001b[0m \u001b[0mSECorner\u001b[0m\u001b[1;33m=\u001b[0m\u001b[0mSECorner\u001b[0m\u001b[1;33m,\u001b[0m\u001b[1;33m)\u001b[0m\u001b[1;33m\u001b[0m\u001b[0m\n\u001b[0m",
      "\u001b[0;32mC:\\Users\\Johannes Norheim\\Dropbox (MIT)\\BASALT\\pextant\\pextant\\EnvironmentalModel.pyc\u001b[0m in \u001b[0;36mloadElevationMap\u001b[0;34m(filePath, maxSlope, planet, NWCorner, SECorner, desiredRes, no_val, zone, zoneLetter)\u001b[0m\n\u001b[1;32m    280\u001b[0m             \u001b[1;32mreturn\u001b[0m \u001b[0mEnvironmentalModel\u001b[0m\u001b[1;33m(\u001b[0m\u001b[0mmapArray\u001b[0m\u001b[1;33m,\u001b[0m \u001b[0mresolution\u001b[0m\u001b[1;33m,\u001b[0m \u001b[0mmaxSlope\u001b[0m\u001b[1;33m,\u001b[0m \u001b[0mNWCoord\u001b[0m\u001b[1;33m,\u001b[0m \u001b[0mplanet\u001b[0m\u001b[1;33m)\u001b[0m\u001b[1;33m\u001b[0m\u001b[0m\n\u001b[1;32m    281\u001b[0m         \u001b[1;32melse\u001b[0m\u001b[1;33m:\u001b[0m\u001b[1;33m\u001b[0m\u001b[0m\n\u001b[0;32m--> 282\u001b[0;31m             \u001b[1;32mif\u001b[0m \u001b[1;33m(\u001b[0m\u001b[0mNWCorner\u001b[0m\u001b[1;33m.\u001b[0m\u001b[0mtype\u001b[0m \u001b[1;33m==\u001b[0m \u001b[0mUTMCoord\u001b[0m\u001b[1;33m)\u001b[0m\u001b[1;33m:\u001b[0m\u001b[1;33m\u001b[0m\u001b[0m\n\u001b[0m\u001b[1;32m    283\u001b[0m                 \u001b[0mtop\u001b[0m \u001b[1;33m=\u001b[0m \u001b[0mNWCorner\u001b[0m\u001b[1;33m.\u001b[0m\u001b[0mnorthing\u001b[0m\u001b[1;33m\u001b[0m\u001b[0m\n\u001b[1;32m    284\u001b[0m                 \u001b[0mbot\u001b[0m \u001b[1;33m=\u001b[0m \u001b[0mSECorner\u001b[0m\u001b[1;33m.\u001b[0m\u001b[0mnorthing\u001b[0m\u001b[1;33m\u001b[0m\u001b[0m\n",
      "\u001b[0;31mAttributeError\u001b[0m: 'LatLongCoord' object has no attribute 'type'"
     ]
    }
   ],
   "source": [
    "EM = loadElevationMap(dem_path, NWCorner=NWCorner, SECorner=SECorner,)"
   ]
  },
  {
   "cell_type": "code",
   "execution_count": 22,
   "metadata": {
    "collapsed": false
   },
   "outputs": [
    {
     "data": {
      "text/plain": [
       "False"
      ]
     },
     "execution_count": 22,
     "metadata": {},
     "output_type": "execute_result"
    }
   ],
   "source": [
    "isinstance(NWCorner, UTMCoord)"
   ]
  },
  {
   "cell_type": "code",
   "execution_count": null,
   "metadata": {
    "collapsed": true
   },
   "outputs": [],
   "source": []
  }
 ],
 "metadata": {
  "kernelspec": {
   "display_name": "Python [conda env:pextant]",
   "language": "python",
   "name": "conda-env-pextant-py"
  },
  "language_info": {
   "codemirror_mode": {
    "name": "ipython",
    "version": 2
   },
   "file_extension": ".py",
   "mimetype": "text/x-python",
   "name": "python",
   "nbconvert_exporter": "python",
   "pygments_lexer": "ipython2",
   "version": "2.7.12"
  }
 },
 "nbformat": 4,
 "nbformat_minor": 1
}
