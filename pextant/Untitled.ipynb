{
 "cells": [
  {
   "cell_type": "code",
   "execution_count": 1,
   "metadata": {
    "collapsed": false
   },
   "outputs": [
    {
     "name": "stdout",
     "output_type": "stream",
     "text": [
      "{'nw_easting': 258095.0, 'nw_northing': 2151031.0, 'zone': 5, 'height': 3222, 'width': 3381, 'resolution': 2.0, 'zone_letter': 'N'}\n"
     ]
    }
   ],
   "source": [
    "from EnvironmentalModel import *\n",
    "import transform\n",
    "dem_path = 'hawaiiDEM.tif'\n",
    "\n",
    "info = loadElevationsLite(dem_path)\n",
    "print(info)"
   ]
  },
  {
   "cell_type": "code",
   "execution_count": 2,
   "metadata": {
    "collapsed": false
   },
   "outputs": [],
   "source": [
    "NW_corner = UTMCoord(info[\"nw_easting\"], info[\"nw_northing\"], info[\"zone\"])"
   ]
  },
  {
   "cell_type": "code",
   "execution_count": 3,
   "metadata": {
    "collapsed": false
   },
   "outputs": [],
   "source": [
    "latlong = UTMToLatLong(NW_corner)"
   ]
  },
  {
   "cell_type": "code",
   "execution_count": 4,
   "metadata": {
    "collapsed": false
   },
   "outputs": [
    {
     "data": {
      "text/plain": [
       "(19.43907857755622, -155.30401216560762)"
      ]
     },
     "execution_count": 4,
     "metadata": {},
     "output_type": "execute_result"
    }
   ],
   "source": [
    "latlong"
   ]
  },
  {
   "cell_type": "code",
   "execution_count": 16,
   "metadata": {
    "collapsed": false
   },
   "outputs": [],
   "source": [
    "se_northing = info[\"nw_northing\"] - info[\"resolution\"] * (info[\"height\"] - 1)\n",
    "se_easting = info[\"nw_easting\"] + info[\"resolution\"] * (info[\"width\"] - 1)"
   ]
  },
  {
   "cell_type": "code",
   "execution_count": 17,
   "metadata": {
    "collapsed": false
   },
   "outputs": [],
   "source": [
    "SE_corner = UTMCoord(se_easting, se_northing, info[\"zone\"])"
   ]
  },
  {
   "cell_type": "code",
   "execution_count": 18,
   "metadata": {
    "collapsed": false
   },
   "outputs": [],
   "source": [
    "se_latlong = UTMToLatLong(SE_corner)"
   ]
  },
  {
   "cell_type": "code",
   "execution_count": 19,
   "metadata": {
    "collapsed": false
   },
   "outputs": [
    {
     "data": {
      "text/plain": [
       "(19.381711084085023, -155.2388672388234)"
      ]
     },
     "execution_count": 19,
     "metadata": {},
     "output_type": "execute_result"
    }
   ],
   "source": [
    "se_latlong"
   ]
  },
  {
   "cell_type": "code",
   "execution_count": 22,
   "metadata": {
    "collapsed": false
   },
   "outputs": [
    {
     "name": "stdout",
     "output_type": "stream",
     "text": [
      "LatLong Coordinate 19.4025,-155.2758\n",
      "\n",
      "LatLong Coordinate 19.3987,-155.2694\n",
      "\n"
     ]
    }
   ],
   "source": [
    "NWCorner = LatLongCoord(19.4025, -155.2758)\n",
    "SECorner = LatLongCoord(19.3987, -155.2694)\n",
    "print(NWCorner)\n",
    "print(SECorner)"
   ]
  },
  {
   "cell_type": "code",
   "execution_count": 23,
   "metadata": {
    "collapsed": false
   },
   "outputs": [],
   "source": [
    "dem_map = loadElevationMap(dem_path,  nw_corner=NWCorner, se_corner=SECorner)"
   ]
  },
  {
   "cell_type": "code",
   "execution_count": 24,
   "metadata": {
    "collapsed": false
   },
   "outputs": [
    {
     "data": {
      "text/plain": [
       "array([[ 1117.68847656,  1117.59277344,  1117.58300781, ...,\n",
       "         1106.48046875,  1106.44335938,  1106.37792969],\n",
       "       [ 1117.81152344,  1117.71875   ,  1117.71386719, ...,\n",
       "         1106.38769531,  1106.34667969,  1106.25      ],\n",
       "       [ 1117.97949219,  1117.87402344,  1117.7890625 , ...,\n",
       "         1106.32714844,  1106.28710938,  1106.19042969],\n",
       "       ..., \n",
       "       [ 1134.90234375,  1134.80273438,  1134.67089844, ...,\n",
       "         1137.09472656,  1137.14746094,  1137.18652344],\n",
       "       [ 1134.87304688,  1134.77832031,  1134.63378906, ...,\n",
       "         1137.11621094,  1137.19824219,  1137.29003906],\n",
       "       [ 1134.82324219,  1134.71191406,  1134.56738281, ...,\n",
       "         1137.19042969,  1137.31347656,  1137.45703125]])"
      ]
     },
     "execution_count": 24,
     "metadata": {},
     "output_type": "execute_result"
    }
   ],
   "source": [
    "dem_map"
   ]
  },
  {
   "cell_type": "code",
   "execution_count": null,
   "metadata": {
    "collapsed": true
   },
   "outputs": [],
   "source": []
  }
 ],
 "metadata": {
  "kernelspec": {
   "display_name": "Python [conda env:pextant]",
   "language": "python",
   "name": "conda-env-pextant-py"
  },
  "language_info": {
   "codemirror_mode": {
    "name": "ipython",
    "version": 2
   },
   "file_extension": ".py",
   "mimetype": "text/x-python",
   "name": "python",
   "nbconvert_exporter": "python",
   "pygments_lexer": "ipython2",
   "version": "2.7.12"
  }
 },
 "nbformat": 4,
 "nbformat_minor": 1
}
